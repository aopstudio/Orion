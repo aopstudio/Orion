{
 "cells": [
  {
   "cell_type": "code",
   "execution_count": 1,
   "metadata": {},
   "outputs": [],
   "source": [
    "from inductor import BartInductor\n",
    "\n",
    "inductor = BartInductor()"
   ]
  },
  {
   "cell_type": "code",
   "execution_count": 5,
   "metadata": {},
   "outputs": [
    {
     "name": "stdout",
     "output_type": "stream",
     "text": [
      "<mask> is a member of <mask>.\n",
      "<mask> is an elected member of <mask>.\n",
      "<mask> is a fellow of <mask>.\n",
      "<mask> has been a member of <mask>.\n",
      "<mask> was elected as a fellow of <mask> and was.\n",
      "<mask> was a member of <mask>.\n",
      "<mask> was elected a fellow of <mask>.\n"
     ]
    }
   ],
   "source": [
    "rule = '<mask> is the center of <mask>.'\n",
    "generated_texts = inductor.generate(rule)\n",
    "\n",
    "for text in generated_texts:\n",
    "    print(text)"
   ]
  }
 ],
 "metadata": {
  "kernelspec": {
   "display_name": "Python 3.8.0 ('orion')",
   "language": "python",
   "name": "python3"
  },
  "language_info": {
   "codemirror_mode": {
    "name": "ipython",
    "version": 3
   },
   "file_extension": ".py",
   "mimetype": "text/x-python",
   "name": "python",
   "nbconvert_exporter": "python",
   "pygments_lexer": "ipython3",
   "version": "3.8.0"
  },
  "orig_nbformat": 4,
  "vscode": {
   "interpreter": {
    "hash": "b1b9dc6e649a0f6d90770bee70caae05e6cd680d46a62453153f2bc2d60b3b6c"
   }
  }
 },
 "nbformat": 4,
 "nbformat_minor": 2
}
